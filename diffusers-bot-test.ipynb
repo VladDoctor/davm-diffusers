{
 "cells": [
  {
   "cell_type": "code",
   "execution_count": null,
   "id": "5219f74a-4e82-4056-809d-aa129d35d302",
   "metadata": {},
   "outputs": [],
   "source": [
    "! python --version"
   ]
  },
  {
   "cell_type": "code",
   "execution_count": null,
   "id": "89935ca5-559e-42ef-bf23-c47f9e015d7a",
   "metadata": {},
   "outputs": [],
   "source": [
    "! pip install diffusers transformers scipy"
   ]
  },
  {
   "cell_type": "code",
   "execution_count": null,
   "id": "38b8b44c-4a37-40ae-88c8-1513d43a92c7",
   "metadata": {},
   "outputs": [],
   "source": [
    "! pip install accelerate"
   ]
  },
  {
   "cell_type": "code",
   "execution_count": null,
   "id": "2b7ab8a2-9baa-435b-b9d2-192cf71e6136",
   "metadata": {},
   "outputs": [],
   "source": [
    "from diffusers import StableDiffusionPipeline\n",
    "import torch"
   ]
  },
  {
   "cell_type": "code",
   "execution_count": null,
   "id": "28848bde-c8b1-4b02-9fdd-36921528777b",
   "metadata": {},
   "outputs": [],
   "source": [
    "model_id = \"darkstorm2150/Protogen_v2.2_Official_Release\""
   ]
  },
  {
   "cell_type": "code",
   "execution_count": null,
   "id": "a89c3573-713d-4587-97dc-1a5cd068300c",
   "metadata": {},
   "outputs": [],
   "source": [
    "pipe = StableDiffusionPipeline.from_pretrained(model_id, torch_dtype=torch.float16)"
   ]
  },
  {
   "cell_type": "code",
   "execution_count": null,
   "id": "824f5c0a-537e-4c24-bef5-0a456440f81b",
   "metadata": {},
   "outputs": [],
   "source": [
    "pipe.config"
   ]
  },
  {
   "cell_type": "code",
   "execution_count": null,
   "id": "2440b5eb-b12f-4ffd-928d-8b3bf37d05f6",
   "metadata": {},
   "outputs": [],
   "source": [
    "pipe = pipe.to(\"cuda\")"
   ]
  },
  {
   "cell_type": "code",
   "execution_count": null,
   "id": "f403b574-5d23-4a55-b246-c89d9cadaca3",
   "metadata": {},
   "outputs": [],
   "source": [
    "! pip install pyTelegramBotAPI"
   ]
  },
  {
   "cell_type": "code",
   "execution_count": null,
   "id": "27318dbe-a7e5-4a62-b4cd-2722e3ba5907",
   "metadata": {},
   "outputs": [],
   "source": [
    "import telebot\n",
    "from telebot import types\n",
    "\n",
    "import re\n",
    "import time\n",
    "import os"
   ]
  },
  {
   "cell_type": "code",
   "execution_count": null,
   "id": "571bbba7-824e-434a-98ac-8f81584b3822",
   "metadata": {},
   "outputs": [],
   "source": [
    "def generate(user_id, user_prompt):\n",
    "    \n",
    "    image = pipe(\n",
    "        prompt = user_prompt,\n",
    "        height = 512,\n",
    "        width = 512,\n",
    "        num_inference_steps = 100,\n",
    "        guidance_scale = 3.5,\n",
    "        num_images_per_prompt = 1\n",
    "    ).images[0]\n",
    "    \n",
    "    user_image_path = f\"./images/{user_id}.png\"\n",
    "    \n",
    "    if os.path.exists(user_image_path):\n",
    "        os.remove(user_image_path)\n",
    "    \n",
    "    try:\n",
    "        image.save(user_image_path)\n",
    "        return user_image_path\n",
    "    except:\n",
    "        bot.send_message(user_id, \"Произошла ошибка, попробуйте позже.\", parse_mode='html')\n",
    "        return \"./images/error.png\""
   ]
  },
  {
   "cell_type": "code",
   "execution_count": null,
   "id": "db3f5d01-e9e0-4051-b045-eb8dbebfaa22",
   "metadata": {},
   "outputs": [],
   "source": [
    "bot = telebot.TeleBot('6045436042:AAEa8N0i69hZIIuwH_vVGgcz429peGCbRZ0')\n",
    "\n",
    "@bot.message_handler(content_types=[\"text\"])\n",
    "def mail(message):\n",
    "    user_id = message.chat.id\n",
    "    user_prompt = re.findall('/imagine (.*?)', message.text)\n",
    "    \n",
    "    if len(prompt) > 0:\n",
    "        bot.send_message(user_id, \"Подождите несколько секунд.\", parse_mode='html')\n",
    "        path = generate(user_id, user_prompt[0])\n",
    "                \n",
    "        with open(path, 'rb') as photo:\n",
    "            bot.send_photo(user_id, photo)\n",
    "    else:\n",
    "        bot.send_message(user_id, \"Введите запрос через команду <i>/imagine</i>\", parse_mode='html')"
   ]
  },
  {
   "cell_type": "code",
   "execution_count": null,
   "id": "acce98b9-6484-4181-b6b0-b41d0c3e513b",
   "metadata": {},
   "outputs": [],
   "source": [
    "while True:\n",
    "    try:\n",
    "        bot.polling(non_stop=True, interval=0)\n",
    "    except Exception as e:\n",
    "        print(e)\n",
    "        time.sleep(5)\n",
    "        continue"
   ]
  }
 ],
 "metadata": {
  "kernelspec": {
   "display_name": "Python 3 (ipykernel)",
   "language": "python",
   "name": "python3"
  },
  "language_info": {
   "codemirror_mode": {
    "name": "ipython",
    "version": 3
   },
   "file_extension": ".py",
   "mimetype": "text/x-python",
   "name": "python",
   "nbconvert_exporter": "python",
   "pygments_lexer": "ipython3",
   "version": "3.10.8"
  }
 },
 "nbformat": 4,
 "nbformat_minor": 5
}
